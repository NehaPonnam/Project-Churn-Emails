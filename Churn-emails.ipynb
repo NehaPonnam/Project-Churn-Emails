{
 "cells": [
  {
   "cell_type": "code",
   "execution_count": 1,
   "metadata": {},
   "outputs": [],
   "source": [
    "def number_of_lines():\n",
    "    fileh=open(\"/cxldata/datasets/project/mbox-short.txt\",\"r\")\n",
    "    inp=fileh.read()\n",
    "    fileh.close()\n",
    "    count=len(inp.splitlines())\n",
    "    return count"
   ]
  },
  {
   "cell_type": "code",
   "execution_count": 2,
   "metadata": {},
   "outputs": [
    {
     "name": "stdout",
     "output_type": "stream",
     "text": [
      "1910\n"
     ]
    }
   ],
   "source": [
    "nol=number_of_lines()\n",
    "print(nol)"
   ]
  },
  {
   "cell_type": "code",
   "execution_count": 3,
   "metadata": {},
   "outputs": [],
   "source": [
    "def count_number_of_lines():\n",
    "    fhand=open(\"/cxldata/datasets/project/mbox-short.txt\")\n",
    "    count=0\n",
    "    for line in fhand:\n",
    "        line=line.rstrip()\n",
    "        if line.startswith(\"Subject:\"):\n",
    "            count+=1\n",
    "    return count"
   ]
  },
  {
   "cell_type": "code",
   "execution_count": 4,
   "metadata": {},
   "outputs": [
    {
     "name": "stdout",
     "output_type": "stream",
     "text": [
      "27\n"
     ]
    }
   ],
   "source": [
    "count=count_number_of_lines()\n",
    "print(count)"
   ]
  },
  {
   "cell_type": "code",
   "execution_count": 5,
   "metadata": {},
   "outputs": [],
   "source": [
    "def average_spam_confidence():\n",
    "    count=0\n",
    "    summ=0.0\n",
    "    fhand=open(\"/cxldata/datasets/project/mbox-short.txt\")\n",
    "    for line in fhand:\n",
    "        line=line.rstrip()\n",
    "        if line.startswith(\"X-DSPAM-Confidence:\"):\n",
    "            count+=1\n",
    "            summ+=float(line.split(\":\")[1])\n",
    "    return summ/count\n",
    "        "
   ]
  },
  {
   "cell_type": "code",
   "execution_count": 6,
   "metadata": {},
   "outputs": [
    {
     "name": "stdout",
     "output_type": "stream",
     "text": [
      "0.7507185185185187\n"
     ]
    }
   ],
   "source": [
    "avg=average_spam_confidence()\n",
    "print(avg)"
   ]
  },
  {
   "cell_type": "code",
   "execution_count": 22,
   "metadata": {},
   "outputs": [],
   "source": [
    "#Python Project - Churn Emails - Find Which Day of the Week the Email was sent\n",
    "def find_email_sent_days():\n",
    "    fhand=open(\"/cxldata/datasets/project/mbox-short.txt\")\n",
    "    dit={\"Sat\":0,\"Sun\":0,\"Mon\":0,\"Tue\":0,\"Wed\":0,\"Thu\":0,\"Fri\":0}\n",
    "    count=0\n",
    "    for line in fhand:\n",
    "        if line.startswith(\"From \"):\n",
    "            count+=1\n",
    "            value=line.split(\" \")[2]\n",
    "            dit[value]=dit[value]+1\n",
    "    fhand.close()\n",
    "    for k,v in dit.items():\n",
    "        if (v==0):\n",
    "            del dit[k]\n",
    "        return dit"
   ]
  },
  {
   "cell_type": "code",
   "execution_count": 23,
   "metadata": {},
   "outputs": [
    {
     "name": "stdout",
     "output_type": "stream",
     "text": [
      "{'Sat': 1, 'Sun': 0, 'Mon': 0, 'Tue': 0, 'Wed': 0, 'Thu': 6, 'Fri': 20}\n"
     ]
    }
   ],
   "source": [
    "dit=find_email_sent_days()\n",
    "print(dit)"
   ]
  },
  {
   "cell_type": "code",
   "execution_count": null,
   "metadata": {},
   "outputs": [],
   "source": []
  }
 ],
 "metadata": {
  "kernelspec": {
   "display_name": "Python 3",
   "language": "python",
   "name": "python3"
  },
  "language_info": {
   "codemirror_mode": {
    "name": "ipython",
    "version": 3
   },
   "file_extension": ".py",
   "mimetype": "text/x-python",
   "name": "python",
   "nbconvert_exporter": "python",
   "pygments_lexer": "ipython3",
   "version": "3.6.8"
  },
  "toc": {
   "base_numbering": 1,
   "nav_menu": {},
   "number_sections": true,
   "sideBar": true,
   "skip_h1_title": false,
   "title_cell": "Table of Contents",
   "title_sidebar": "Contents",
   "toc_cell": false,
   "toc_position": {},
   "toc_section_display": true,
   "toc_window_display": false
  }
 },
 "nbformat": 4,
 "nbformat_minor": 2
}
